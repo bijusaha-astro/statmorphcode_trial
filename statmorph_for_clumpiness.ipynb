{
 "cells": [
  {
   "cell_type": "code",
   "execution_count": null,
   "id": "178b22b1",
   "metadata": {},
   "outputs": [],
   "source": [
    "import numpy as np\n",
    "import matplotlib.pyplot as plt\n",
    "from astropy.visualization import simple_norm\n",
    "from astropy.modeling.models import Sersic2D\n",
    "from astropy.convolution import convolve, Gaussian2DKernel\n",
    "from photutils.segmentation import detect_threshold, detect_sources\n",
    "from astropy.stats import SigmaClip\n",
    "from photutils.background import Background2D, MedianBackground\n",
    "from astropy.io import fits\n",
    "import time\n",
    "import statmorph\n",
    "%matplotlib inline"
   ]
  },
  {
   "cell_type": "code",
   "execution_count": null,
   "id": "f42667dd",
   "metadata": {},
   "outputs": [],
   "source": [
    "from photutils.segmentation import make_2dgaussian_kernel\n",
    "from astropy.convolution import convolve\n",
    "kernel=make_2dgaussian_kernel(3.0,size=5)"
   ]
  },
  {
   "cell_type": "code",
   "execution_count": null,
   "id": "6f19e455",
   "metadata": {},
   "outputs": [],
   "source": [
    "def obtain_clumpiness(name):\n",
    "    \n",
    "    #reads the data in the fits file\n",
    "    path='/home/biju/statmorph_exercise/Conselice et al 2003 papers/FITS_file/'\n",
    "    #nm=path+name+\".fits\"\n",
    "    nm=path+name\n",
    "    hdu=fits.open(nm)\n",
    "    print(\"\\nExecuting for \",name,\" : \\n\")\n",
    "    data= hdu[0].data\n",
    "    \n",
    "    #calculate background\n",
    "    sigma_clip=SigmaClip(sigma=3.0) #Remove data above 3-sigma level\n",
    "    bkg_estimator= MedianBackground()\n",
    "    bkg=Background2D(data,(200,200),filter_size=(3,3),\n",
    "                     sigma_clip=sigma_clip,bkg_estimator=bkg_estimator)\n",
    "    \n",
    "    #background subtracted image\n",
    "    final_data=data-bkg.background\n",
    "    threshold=1.5*bkg.background_rms\n",
    "    #convolved_data= convolve(final_data,kernel)\n",
    "    \n",
    "    #segmatation map\n",
    "    seg_map=detect_sources(final_data,threshold,npixels=200)\n",
    "    \n",
    "    #as there are multiple sources but the galaxy concerned is the largest source, so choosing the largest segment\n",
    "    t=seg_map.max_label\n",
    "    max_area = 0\n",
    "    max_index = None\n",
    "    for i in range(1, t):\n",
    "        area = seg_map.get_area(i)  # Assuming segmap.get_area(i) is your function\n",
    "        if area > max_area:\n",
    "            max_area = area\n",
    "            max_index = i\n",
    "    \n",
    "    #running the statmorph code        \n",
    "    start = time.time()\n",
    "    source_morphs = statmorph.source_morphology(final_data, seg_map,gain=5)\n",
    "    print('Time: %g s.' % (time.time() - start))\n",
    "    \n",
    "    #determine and extract the value for the galaxy\n",
    "    morph = source_morphs[max_index]\n",
    "    print(morph.smoothness)\n",
    "    \n",
    "    #val.append(morph.smoothness)\n",
    "    #gal_name.append(name)"
   ]
  }
 ],
 "metadata": {
  "kernelspec": {
   "display_name": "Python 3 (ipykernel)",
   "language": "python",
   "name": "python3"
  },
  "language_info": {
   "codemirror_mode": {
    "name": "ipython",
    "version": 3
   },
   "file_extension": ".py",
   "mimetype": "text/x-python",
   "name": "python",
   "nbconvert_exporter": "python",
   "pygments_lexer": "ipython3",
   "version": "3.9.12"
  }
 },
 "nbformat": 4,
 "nbformat_minor": 5
}
